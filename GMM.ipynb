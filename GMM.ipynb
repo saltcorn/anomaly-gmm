{
 "cells": [
  {
   "cell_type": "code",
   "execution_count": null,
   "metadata": {},
   "outputs": [],
   "source": [
    "import pickle\n",
    "import pandas\n",
    "import json\n",
    "from sklearn.mixture import GaussianMixture\n",
    "\n",
    "df = pandas.read_csv('/tmp/scdata.csv')\n",
    "gm = GaussianMixture(n_components=3, random_state=0).fit(df)\n",
    "with open('/tmp/scanomallymodel', 'wb') as handle:\n",
    "    pickle.dump(gm, handle, protocol=pickle.HIGHEST_PROTOCOL)\n",
    "\n",
    "with open('/tmp/scmodelmetrics.json', 'w') as fp:\n",
    "    json.dump({\n",
    "        'AIC': gm.aic(df),\n",
    "        'BIC': gm.bic(df)\n",
    "      }, fp)"
   ]
  },
  {
   "cell_type": "code",
   "execution_count": null,
   "metadata": {},
   "outputs": [],
   "source": [
    "from sklearn.manifold import TSNE\n",
    "tsne = TSNE(n_components=2, random_state=0, perplexity=5)\n",
    "\n",
    "tsne_fit = tsne.fit_transform(df.to_numpy())\n",
    "from matplotlib import pyplot as plt\n",
    "plt.figure(figsize=(6, 5))\n",
    "plt.scatter(tsne_fit[:, 0], tsne_fit[:, 1], c=gm.predict(df))\n",
    "plt.show()"
   ]
  },
  {
   "cell_type": "code",
   "execution_count": null,
   "metadata": {},
   "outputs": [],
   "source": [
    "import pickle\n",
    "import pandas\n",
    "\n",
    "def predict(model_pickle_file, data_csv_file):\n",
    "  with open(model_pickle_file, \"rb\") as input_file:\n",
    "    gm1 = pickle.load(input_file)\n",
    "    predcsv = pandas.read_csv(data_csv_file)\n",
    "    return {\n",
    "        'log_likelihood': list(gm1.score_samples(predcsv)),\n",
    "        'cluster': list(map(int,gm1.predict(predcsv)))\n",
    "      }"
   ]
  }
 ],
 "metadata": {
  "kernelspec": {
   "display_name": "Python 3",
   "language": "python",
   "name": "python3"
  },
  "language_info": {
   "codemirror_mode": {
    "name": "ipython",
    "version": 3
   },
   "file_extension": ".py",
   "mimetype": "text/x-python",
   "name": "python",
   "nbconvert_exporter": "python",
   "pygments_lexer": "ipython3",
   "version": "3.11.3"
  },
  "orig_nbformat": 4
 },
 "nbformat": 4,
 "nbformat_minor": 2
}
